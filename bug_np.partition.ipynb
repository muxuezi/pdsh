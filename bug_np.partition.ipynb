{
 "cells": [
  {
   "cell_type": "code",
   "execution_count": 2,
   "metadata": {
    "ExecuteTime": {
     "end_time": "2018-10-25T04:46:04.001783Z",
     "start_time": "2018-10-25T04:46:03.850551Z"
    }
   },
   "outputs": [],
   "source": [
    "import numpy as np"
   ]
  },
  {
   "cell_type": "markdown",
   "metadata": {},
   "source": [
    "# 未确认勘误"
   ]
  },
  {
   "cell_type": "markdown",
   "metadata": {},
   "source": [
    "## 第77页\n",
    "\n",
    "错误内容：np.partition()的输入是数组和数字K，输出结果是一个新数组，最左边是第K小的值，往右是任意顺序的其他值。\n",
    "\n",
    "应改为：根据源代码里面给出的内容，K值的含义应该是分割点，而不是最左边是第K小的值，这个函数就是类似于快速排序的特点，K位置左边的值均小于K位置右边的值\n",
    "\n",
    "\n",
    "![](https://raw.githubusercontent.com/muxuezi/pdsh/master/WechatIMG3.png)"
   ]
  },
  {
   "cell_type": "code",
   "execution_count": 3,
   "metadata": {
    "ExecuteTime": {
     "end_time": "2018-10-25T04:46:05.811665Z",
     "start_time": "2018-10-25T04:46:05.773325Z"
    }
   },
   "outputs": [],
   "source": [
    "np.partition?"
   ]
  },
  {
   "cell_type": "code",
   "execution_count": null,
   "metadata": {},
   "outputs": [],
   "source": [
    "Signature: np.partition(a, kth, axis=-1, kind='introselect', order=None)\n",
    "Docstring:\n",
    "Return a partitioned copy of an array.\n",
    "\n",
    "Creates a copy of the array with its elements rearranged in such a\n",
    "way that the value of the element in k-th position is in the\n",
    "position it would be in a sorted array. All elements smaller than\n",
    "the k-th element are moved before this element and all equal or\n",
    "greater are moved behind it. The ordering of the elements in the two\n",
    "partitions is undefined.\n",
    "\n",
    ".. versionadded:: 1.8.0\n",
    "\n",
    "Parameters\n",
    "----------\n",
    "a : array_like\n",
    "    Array to be sorted.\n",
    "kth : int or sequence of ints\n",
    "    Element index to partition by. The k-th value of the element\n",
    "    will be in its final sorted position and all smaller elements\n",
    "    will be moved before it and all equal or greater elements behind\n",
    "    it. The order of all elements in the partitions is undefined. If\n",
    "    provided with a sequence of k-th it will partition all elements\n",
    "    indexed by k-th  of them into their sorted position at once.\n",
    "axis : int or None, optional\n",
    "    Axis along which to sort. If None, the array is flattened before\n",
    "    sorting. The default is -1, which sorts along the last axis.\n",
    "kind : {'introselect'}, optional\n",
    "    Selection algorithm. Default is 'introselect'.\n",
    "order : str or list of str, optional\n",
    "    When `a` is an array with fields defined, this argument\n",
    "    specifies which fields to compare first, second, etc.  A single\n",
    "    field can be specified as a string.  Not all fields need be\n",
    "    specified, but unspecified fields will still be used, in the\n",
    "    order in which they come up in the dtype, to break ties.\n",
    "\n",
    "Returns\n",
    "-------\n",
    "partitioned_array : ndarray\n",
    "    Array of the same type and shape as `a`.\n",
    "\n",
    "See Also\n",
    "--------\n",
    "ndarray.partition : Method to sort an array in-place.\n",
    "argpartition : Indirect partition.\n",
    "sort : Full sorting\n",
    "\n",
    "Notes\n",
    "-----\n",
    "The various selection algorithms are characterized by their average\n",
    "speed, worst case performance, work space size, and whether they are\n",
    "stable. A stable sort keeps items with the same key in the same\n",
    "relative order. The available algorithms have the following\n",
    "properties:\n",
    "\n",
    "================= ======= ============= ============ =======\n",
    "   kind            speed   worst case    work space  stable\n",
    "================= ======= ============= ============ =======\n",
    "'introselect'        1        O(n)           0         no\n",
    "================= ======= ============= ============ =======\n",
    "\n",
    "All the partition algorithms make temporary copies of the data when\n",
    "partitioning along any but the last axis.  Consequently,\n",
    "partitioning along the last axis is faster and uses less space than\n",
    "partitioning along any other axis.\n",
    "\n",
    "The sort order for complex numbers is lexicographic. If both the\n",
    "real and imaginary parts are non-nan then the order is determined by\n",
    "the real parts except when they are equal, in which case the order\n",
    "is determined by the imaginary parts.\n",
    "\n",
    "Examples\n",
    "--------\n",
    ">>> a = np.array([3, 4, 2, 1])\n",
    ">>> np.partition(a, 3)\n",
    "array([2, 1, 3, 4])\n",
    "\n",
    ">>> np.partition(a, (1, 3))\n",
    "array([1, 2, 3, 4])\n",
    "File:      ~/anaconda3/lib/python3.6/site-packages/numpy/core/fromnumeric.py\n",
    "Type:      function"
   ]
  },
  {
   "cell_type": "code",
   "execution_count": 2,
   "metadata": {
    "ExecuteTime": {
     "end_time": "2018-10-25T04:36:15.849214Z",
     "start_time": "2018-10-25T04:36:15.836936Z"
    },
    "scrolled": true
   },
   "outputs": [
    {
     "data": {
      "text/plain": [
       "array([[0, 9, 4, 1, 6, 6],\n",
       "       [9, 7, 8, 5, 3, 0],\n",
       "       [5, 2, 7, 2, 9, 2]])"
      ]
     },
     "execution_count": 2,
     "metadata": {},
     "output_type": "execute_result"
    }
   ],
   "source": [
    "M=np.random.randint(0,10,size=(3,6))\n",
    "M"
   ]
  },
  {
   "cell_type": "code",
   "execution_count": 3,
   "metadata": {
    "ExecuteTime": {
     "end_time": "2018-10-25T04:36:16.362591Z",
     "start_time": "2018-10-25T04:36:16.357611Z"
    }
   },
   "outputs": [
    {
     "data": {
      "text/plain": [
       "array([[0, 1, 4, 9, 6, 6],\n",
       "       [0, 3, 5, 8, 7, 9],\n",
       "       [2, 2, 2, 5, 9, 7]])"
      ]
     },
     "execution_count": 3,
     "metadata": {},
     "output_type": "execute_result"
    }
   ],
   "source": [
    "np.partition(M,2)"
   ]
  },
  {
   "cell_type": "code",
   "execution_count": 4,
   "metadata": {
    "ExecuteTime": {
     "end_time": "2018-10-25T04:36:16.810601Z",
     "start_time": "2018-10-25T04:36:16.804874Z"
    },
    "scrolled": true
   },
   "outputs": [
    {
     "data": {
      "text/plain": [
       "array([[1, 0, 4, 6, 6, 9],\n",
       "       [0, 3, 5, 7, 8, 9],\n",
       "       [2, 2, 2, 5, 9, 7]])"
      ]
     },
     "execution_count": 4,
     "metadata": {},
     "output_type": "execute_result"
    }
   ],
   "source": [
    "np.partition(M,3)"
   ]
  }
 ],
 "metadata": {
  "kernelspec": {
   "display_name": "Python 3",
   "language": "python",
   "name": "python3"
  },
  "language_info": {
   "codemirror_mode": {
    "name": "ipython",
    "version": 3
   },
   "file_extension": ".py",
   "mimetype": "text/x-python",
   "name": "python",
   "nbconvert_exporter": "python",
   "pygments_lexer": "ipython3",
   "version": "3.6.6"
  },
  "toc": {
   "base_numbering": 1,
   "nav_menu": {},
   "number_sections": true,
   "sideBar": true,
   "skip_h1_title": false,
   "title_cell": "Table of Contents",
   "title_sidebar": "Contents",
   "toc_cell": false,
   "toc_position": {},
   "toc_section_display": true,
   "toc_window_display": false
  }
 },
 "nbformat": 4,
 "nbformat_minor": 2
}
